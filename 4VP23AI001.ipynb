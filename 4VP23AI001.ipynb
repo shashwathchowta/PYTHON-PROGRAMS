{
 "cells": [
  {
   "cell_type": "markdown",
   "id": "2a11c010",
   "metadata": {},
   "source": [
    "##  1. Develop a python program to read  n digit integer number and seperate  the integer number  and display each digit"
   ]
  },
  {
   "cell_type": "code",
   "execution_count": null,
   "id": "ac71cfaf",
   "metadata": {},
   "outputs": [],
   "source": [
    "n=int(input(\"enter the number of digit:\"))\n",
    "if n>0:\n",
    "    number=int(input(f'enter a {n}-digit integer:'))\n",
    "    if number>=10**(n-1)and number<10**n:\n",
    "        for i in range(n):\n",
    "            digit=number//(10**(n-1))\n",
    "            print(digit)\n",
    "            number%=10**(n-1)\n",
    "            n-=1\n",
    "    else:\n",
    "        print(f'please enter a {n} digit integer:')\n",
    "else:\n",
    "        print(f\"please enter the valid number of digits(greater than 0)\")\n",
    "        "
   ]
  },
  {
   "cell_type": "markdown",
   "id": "53d27715",
   "metadata": {},
   "source": [
    "## 2.develop a python program to accept 4 numbers and display them in  sorted order using minimum number of if else statement"
   ]
  },
  {
   "cell_type": "code",
   "execution_count": 18,
   "id": "e3974065",
   "metadata": {},
   "outputs": [
    {
     "name": "stdout",
     "output_type": "stream",
     "text": [
      "enter the first number:4\n",
      "enter the second number:9\n",
      "enter the third number:6\n",
      "enter the fourth number:1\n",
      " the sorted number are : 9 6 4 1\n"
     ]
    }
   ],
   "source": [
    "a=int(input(\"enter the first number:\"))\n",
    "b=int(input(\"enter the second number:\"))\n",
    "c=int(input(\"enter the third number:\"))\n",
    "d=int(input(\"enter the fourth number:\"))\n",
    "\n",
    "if a<b:a,b=b,a\n",
    "if c<d:c,d=d,c\n",
    "if a<c:a,c=c,a\n",
    "if b<d:b,d=d,b\n",
    "if b<c:b,c=c,b\n",
    "print(\" the sorted number are :\",a,b,c,d)\n"
   ]
  },
  {
   "cell_type": "code",
   "execution_count": 19,
   "id": "e2970d07",
   "metadata": {},
   "outputs": [
    {
     "data": {
      "text/plain": [
       "8"
      ]
     },
     "execution_count": 19,
     "metadata": {},
     "output_type": "execute_result"
    }
   ],
   "source": [
    "bin(10)\n",
    "bin(9)\n",
    "10&9\n"
   ]
  },
  {
   "cell_type": "code",
   "execution_count": 20,
   "id": "08f537a8",
   "metadata": {},
   "outputs": [
    {
     "data": {
      "text/plain": [
       "11"
      ]
     },
     "execution_count": 20,
     "metadata": {},
     "output_type": "execute_result"
    }
   ],
   "source": [
    "bin(10)\n",
    "bin(9)\n",
    "10|9"
   ]
  },
  {
   "cell_type": "code",
   "execution_count": 22,
   "id": "edc4b00b",
   "metadata": {},
   "outputs": [
    {
     "data": {
      "text/plain": [
       "-11"
      ]
     },
     "execution_count": 22,
     "metadata": {},
     "output_type": "execute_result"
    }
   ],
   "source": [
    "~10"
   ]
  },
  {
   "cell_type": "code",
   "execution_count": 23,
   "id": "cb834087",
   "metadata": {},
   "outputs": [
    {
     "data": {
      "text/plain": [
       "1"
      ]
     },
     "execution_count": 23,
     "metadata": {},
     "output_type": "execute_result"
    }
   ],
   "source": [
    "6^7"
   ]
  },
  {
   "cell_type": "code",
   "execution_count": 24,
   "id": "06cfd78d",
   "metadata": {},
   "outputs": [
    {
     "data": {
      "text/plain": [
       "-3"
      ]
     },
     "execution_count": 24,
     "metadata": {},
     "output_type": "execute_result"
    }
   ],
   "source": [
    "~2"
   ]
  },
  {
   "cell_type": "code",
   "execution_count": 25,
   "id": "2dba1b57",
   "metadata": {},
   "outputs": [
    {
     "data": {
      "text/plain": [
       "-6"
      ]
     },
     "execution_count": 25,
     "metadata": {},
     "output_type": "execute_result"
    }
   ],
   "source": [
    "a=-12\n",
    "a>>1"
   ]
  },
  {
   "cell_type": "code",
   "execution_count": null,
   "id": "5c2d9280",
   "metadata": {},
   "outputs": [],
   "source": []
  }
 ],
 "metadata": {
  "kernelspec": {
   "display_name": "Python 3 (ipykernel)",
   "language": "python",
   "name": "python3"
  },
  "language_info": {
   "codemirror_mode": {
    "name": "ipython",
    "version": 3
   },
   "file_extension": ".py",
   "mimetype": "text/x-python",
   "name": "python",
   "nbconvert_exporter": "python",
   "pygments_lexer": "ipython3",
   "version": "3.10.9"
  }
 },
 "nbformat": 4,
 "nbformat_minor": 5
}
